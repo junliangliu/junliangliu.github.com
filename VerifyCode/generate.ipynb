{
 "cells": [
  {
   "cell_type": "code",
   "execution_count": 14,
   "metadata": {
    "collapsed": false
   },
   "outputs": [],
   "source": [
    "import random\n",
    "from PIL import Image,ImageFont,ImageDraw,ImageFilter"
   ]
  },
  {
   "cell_type": "code",
   "execution_count": 15,
   "metadata": {
    "collapsed": false
   },
   "outputs": [],
   "source": [
    "#返回随机字母\n",
    "def charRandom():\n",
    "    return chr((random.randint(65,90)))\n",
    " \n",
    "#返回随机数字\n",
    "def numRandom():\n",
    "    return random.randint(0,9)\n",
    " \n",
    "#随机颜色\n",
    "def colorRandom1():\n",
    "    #return (random.randint(64,255),random.randint(64,255),random.randint(64,255))\n",
    "    return (random.randint(200,255),random.randint(200,255),random.randint(200,255))\n",
    " \n",
    "#随机长生颜色2\n",
    "def colorRandom2():\n",
    "    return (random.randint(32,127),random.randint(32,127),random.randint(32,127))\n",
    "\n"
   ]
  },
  {
   "cell_type": "code",
   "execution_count": 16,
   "metadata": {
    "collapsed": false,
    "scrolled": true
   },
   "outputs": [],
   "source": [
    "width = 20 * 4\n",
    "height = 20\n",
    "image = Image.new('RGB', (width,height), (255,255,255));\n",
    "#创建font对象\n",
    "font = ImageFont.truetype('Arial.ttf',18);\n",
    " \n",
    "#创建draw对象\n",
    "draw = ImageDraw.Draw(image)\n",
    "#填充每一个颜色\n",
    "for x in range(width):\n",
    "    for y in range(height):\n",
    "        draw.point((x,y), fill=colorRandom1())\n",
    "         \n",
    "#输出文字\n",
    "for t in range(4):\n",
    "    draw.text((20*t+5,1), charRandom(),font=font, fill=colorRandom2())\n",
    "\n",
    "#模糊\n",
    "#image = image.filter(ImageFilter.BLUR)\n",
    "#image = image.rotate(random.randint(0,30),expand=0)\n",
    "# for i in range(0,2):\n",
    "#     draw.line([image.randomPoint(),image.randomPoint()], image.randomRGB())\n",
    "image.save('code.jpg','jpeg')\n",
    "del draw\n",
    "del image\n",
    "del font"
   ]
  },
  {
   "cell_type": "code",
   "execution_count": 17,
   "metadata": {
    "collapsed": false
   },
   "outputs": [],
   "source": [
    "def gen_veri(i):\n",
    "    width = 20 * 4\n",
    "    height = 20\n",
    "    image = Image.new('RGB', (width,height), (255,255,255));\n",
    "    #创建font对象\n",
    "    font = ImageFont.truetype('Arial.ttf',18);\n",
    "\n",
    "    #创建draw对象\n",
    "    draw = ImageDraw.Draw(image)\n",
    "    #填充每一个颜色\n",
    "#     for x in range(width):\n",
    "#         for y in range(height):\n",
    "#             draw.point((x,y), fill=colorRandom1())\n",
    "    \n",
    "    texts = ''\n",
    "    #输出文字\n",
    "    for t in range(4):\n",
    "        c = charRandom()\n",
    "        texts = texts + c\n",
    "        draw.text((20*t+5,1), c,font=font, fill=colorRandom2())\n",
    "\n",
    "\n",
    "    image.save('GenPics/'+str(i) + '.jpg','jpeg')\n",
    "    del draw\n",
    "    del image\n",
    "    del font\n",
    "    return [i,texts]"
   ]
  },
  {
   "cell_type": "markdown",
   "metadata": {},
   "source": [
    "# 返还图片序号及验证码字符串"
   ]
  },
  {
   "cell_type": "code",
   "execution_count": 18,
   "metadata": {
    "collapsed": true
   },
   "outputs": [],
   "source": [
    "lables = []\n",
    "for i in range(0,6000):\n",
    "    lab = gen_veri(i)\n",
    "    lables.append(lab)"
   ]
  },
  {
   "cell_type": "code",
   "execution_count": 19,
   "metadata": {
    "collapsed": true
   },
   "outputs": [],
   "source": [
    "import csv\n",
    "csvfile = open('GenPics/lables.csv', 'wb')\n",
    "writer = csv.writer(csvfile)\n",
    "writer.writerows(lables)\n",
    "csvfile.close()"
   ]
  },
  {
   "cell_type": "code",
   "execution_count": null,
   "metadata": {
    "collapsed": true
   },
   "outputs": [],
   "source": []
  }
 ],
 "metadata": {
  "anaconda-cloud": {},
  "kernelspec": {
   "display_name": "Python [default]",
   "language": "python",
   "name": "python2"
  },
  "language_info": {
   "codemirror_mode": {
    "name": "ipython",
    "version": 2
   },
   "file_extension": ".py",
   "mimetype": "text/x-python",
   "name": "python",
   "nbconvert_exporter": "python",
   "pygments_lexer": "ipython2",
   "version": "2.7.12"
  }
 },
 "nbformat": 4,
 "nbformat_minor": 1
}
