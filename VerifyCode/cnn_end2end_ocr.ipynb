{
 "cells": [
  {
   "cell_type": "code",
   "execution_count": 19,
   "metadata": {
    "collapsed": false
   },
   "outputs": [],
   "source": [
    "import keras\n",
    "from keras.datasets import mnist\n",
    "from keras.models import Sequential\n",
    "from keras.layers import Dense, Dropout, Flatten\n",
    "from keras.layers import Conv2D, MaxPooling2D\n",
    "from keras import backend as K\n",
    "import numpy as np\n",
    "import cv2\n",
    "import os\n",
    "import os.path\n",
    "import xlrd\n",
    "from sklearn import svm\n",
    "import numpy as np"
   ]
  },
  {
   "cell_type": "markdown",
   "metadata": {},
   "source": [
    "# 读取图片及标签"
   ]
  },
  {
   "cell_type": "code",
   "execution_count": 20,
   "metadata": {
    "collapsed": false,
    "scrolled": false
   },
   "outputs": [],
   "source": [
    "import csv\n",
    "\n",
    "csvfile = open('GenPics/lables.csv')\n",
    "reader = csv.reader(csvfile)\n",
    "\n",
    "lables = []\n",
    "for line in reader:\n",
    "    tmp = [line[0],line[1]]\n",
    "    #print tmp\n",
    "    lables.append(tmp)\n",
    "\n",
    "csvfile.close() "
   ]
  },
  {
   "cell_type": "code",
   "execution_count": 21,
   "metadata": {
    "collapsed": false
   },
   "outputs": [
    {
     "name": "stdout",
     "output_type": "stream",
     "text": [
      "picnum :  6000\n"
     ]
    }
   ],
   "source": [
    "X = []\n",
    "y = []\n",
    "picnum = len(lables)\n",
    "print \"picnum : \",picnum\n",
    "for i in range(0,picnum):\n",
    "    img = cv2.imread(\"GenPics/\" + lables[i][0] + '.jpg', cv2.IMREAD_GRAYSCALE)\n",
    "    X.append(img)    \n",
    "    y.append(lables[i][1])"
   ]
  },
  {
   "cell_type": "code",
   "execution_count": 22,
   "metadata": {
    "collapsed": false
   },
   "outputs": [
    {
     "name": "stdout",
     "output_type": "stream",
     "text": [
      "6000 (20L, 80L)\n",
      "6000 4\n"
     ]
    }
   ],
   "source": [
    "print len(X),X[0].shape\n",
    "print len(y),len(y[0])\n",
    "# cv2.imshow(\"Image\", X[9990])   \n",
    "# cv2.waitKey (0)  \n",
    "# cv2.destroyAllWindows()  "
   ]
  },
  {
   "cell_type": "markdown",
   "metadata": {},
   "source": [
    "# 类别映射，[A-Z] -> [0-25] -> onehot 104维01向量(4*26)"
   ]
  },
  {
   "cell_type": "code",
   "execution_count": 23,
   "metadata": {
    "collapsed": false
   },
   "outputs": [
    {
     "name": "stdout",
     "output_type": "stream",
     "text": [
      "(6000L, 20L, 80L) (6000L, 104L)\n",
      "[[ 0.  0.  0.  0.  0.  0.  1.  0.  0.  0.  0.  0.  0.  0.  0.  0.  0.  0.\n",
      "   0.  0.  0.  0.  0.  0.  0.  0.  0.  0.  0.  0.  0.  0.  0.  0.  0.  0.\n",
      "   0.  0.  0.  0.  0.  0.  0.  0.  0.  0.  0.  0.  0.  0.  1.  0.  0.  0.\n",
      "   0.  0.  0.  0.  0.  0.  0.  0.  0.  0.  0.  0.  0.  0.  0.  0.  0.  0.\n",
      "   0.  0.  1.  0.  0.  0.  0.  0.  0.  0.  1.  0.  0.  0.  0.  0.  0.  0.\n",
      "   0.  0.  0.  0.  0.  0.  0.  0.  0.  0.  0.  0.  0.  0.]\n",
      " [ 0.  0.  0.  0.  0.  0.  0.  0.  0.  0.  0.  0.  0.  1.  0.  0.  0.  0.\n",
      "   0.  0.  0.  0.  0.  0.  0.  0.  0.  0.  0.  0.  0.  0.  0.  0.  0.  0.\n",
      "   0.  1.  0.  0.  0.  0.  0.  0.  0.  0.  0.  0.  0.  0.  0.  0.  0.  0.\n",
      "   0.  1.  0.  0.  0.  0.  0.  0.  0.  0.  0.  0.  0.  0.  0.  0.  0.  0.\n",
      "   0.  0.  0.  0.  0.  0.  0.  0.  0.  0.  0.  0.  0.  0.  0.  0.  0.  0.\n",
      "   0.  0.  0.  0.  0.  0.  0.  1.  0.  0.  0.  0.  0.  0.]]\n"
     ]
    }
   ],
   "source": [
    "labeldict = {'A':0,'B':1,'C':2,'D':3,'E':4,'F':5,'G':6,'H':7,'I':8,'J':9,\n",
    "             'K':10,'L':11,'M':12,'N':13,'O':14,'P':15,'Q':16,'R':17,'S':18,'T':19,\n",
    "             'U':20,'V':21,'W':22,'X':23,'Y':24,'Z':25}\n",
    "num_classes = 26\n",
    "\n",
    "X = np.array(X)\n",
    "\n",
    "for i in xrange(len(y)):\n",
    "    c0 = keras.utils.to_categorical(labeldict[y[i][0]], num_classes)\n",
    "    c1 = keras.utils.to_categorical(labeldict[y[i][1]], num_classes)\n",
    "    c2 = keras.utils.to_categorical(labeldict[y[i][2]], num_classes)\n",
    "    c3 = keras.utils.to_categorical(labeldict[y[i][3]], num_classes)\n",
    "    c = np.concatenate((c0,c1,c2,c3),axis=1)\n",
    "    y[i] = c\n",
    "\n",
    "y = np.array(y)\n",
    "y = y[:,0,:]\n",
    "print X.shape,y.shape\n",
    "print y[:2]"
   ]
  },
  {
   "cell_type": "markdown",
   "metadata": {},
   "source": [
    "# 测试训练集划分"
   ]
  },
  {
   "cell_type": "code",
   "execution_count": 24,
   "metadata": {
    "collapsed": true
   },
   "outputs": [],
   "source": [
    "batch_size = 25\n",
    "epochs = 60\n",
    "\n",
    "# input image dimensions\n",
    "img_rows, img_cols = 20, 80"
   ]
  },
  {
   "cell_type": "code",
   "execution_count": 25,
   "metadata": {
    "collapsed": false
   },
   "outputs": [
    {
     "name": "stdout",
     "output_type": "stream",
     "text": [
      "channels_last\n",
      "(4000L, 20L, 80L) (2000L, 20L, 80L)\n",
      "((4000L, 20L, 80L, 1L), (4000L, 104L))\n",
      "((2000L, 20L, 80L, 1L), (2000L, 104L))\n"
     ]
    }
   ],
   "source": [
    "# the data, shuffled and split between train and test sets\n",
    "#(x_train, y_train), (x_test, y_test) = mnist.load_data()\n",
    "x_train = X[:4000]\n",
    "y_train = y[:4000]\n",
    "x_test = X[4000:]\n",
    "y_test = y[4000:]\n",
    "\n",
    "print K.image_data_format()\n",
    "print x_train.shape,x_test.shape\n",
    "\n",
    "if K.image_data_format() == 'channels_first':\n",
    "    x_train = x_train.reshape(x_train.shape[0], 1, img_rows, img_cols)\n",
    "    x_test = x_test.reshape(x_test.shape[0], 1, img_rows, img_cols)\n",
    "    input_shape = (1, img_rows, img_cols)\n",
    "else:\n",
    "    x_train = x_train.reshape(x_train.shape[0], img_rows, img_cols, 1)\n",
    "    x_test = x_test.reshape(x_test.shape[0], img_rows, img_cols, 1)\n",
    "    input_shape = (img_rows, img_cols, 1)\n",
    "print(x_train.shape,y_train.shape)\n",
    "print(x_test.shape,y_test.shape)"
   ]
  },
  {
   "cell_type": "code",
   "execution_count": 26,
   "metadata": {
    "collapsed": false
   },
   "outputs": [],
   "source": [
    "#print x_test[:1]"
   ]
  },
  {
   "cell_type": "code",
   "execution_count": 27,
   "metadata": {
    "collapsed": false
   },
   "outputs": [
    {
     "name": "stdout",
     "output_type": "stream",
     "text": [
      "('x_train shape:', (4000L, 20L, 80L, 1L))\n",
      "(4000L, 'train samples')\n",
      "(2000L, 'test samples')\n"
     ]
    }
   ],
   "source": [
    "x_train = 255 - x_train\n",
    "x_test = 255 - x_test\n",
    "x_train = x_train.astype('float32')\n",
    "x_test = x_test.astype('float32')\n",
    "x_train /= 255\n",
    "x_test /= 255\n",
    "print('x_train shape:', x_train.shape)\n",
    "print(x_train.shape[0], 'train samples')\n",
    "print(x_test.shape[0], 'test samples')"
   ]
  },
  {
   "cell_type": "code",
   "execution_count": 28,
   "metadata": {
    "collapsed": false,
    "scrolled": true
   },
   "outputs": [
    {
     "name": "stdout",
     "output_type": "stream",
     "text": [
      "[['0', 'GYWE'], ['1', 'NLDT']]\n",
      "[[ 0.  0.  0.  0.  0.  0.  1.  0.  0.  0.  0.  0.  0.  0.  0.  0.  0.  0.\n",
      "   0.  0.  0.  0.  0.  0.  0.  0.  0.  0.  0.  0.  0.  0.  0.  0.  0.  0.\n",
      "   0.  0.  0.  0.  0.  0.  0.  0.  0.  0.  0.  0.  0.  0.  1.  0.  0.  0.\n",
      "   0.  0.  0.  0.  0.  0.  0.  0.  0.  0.  0.  0.  0.  0.  0.  0.  0.  0.\n",
      "   0.  0.  1.  0.  0.  0.  0.  0.  0.  0.  1.  0.  0.  0.  0.  0.  0.  0.\n",
      "   0.  0.  0.  0.  0.  0.  0.  0.  0.  0.  0.  0.  0.  0.]\n",
      " [ 0.  0.  0.  0.  0.  0.  0.  0.  0.  0.  0.  0.  0.  1.  0.  0.  0.  0.\n",
      "   0.  0.  0.  0.  0.  0.  0.  0.  0.  0.  0.  0.  0.  0.  0.  0.  0.  0.\n",
      "   0.  1.  0.  0.  0.  0.  0.  0.  0.  0.  0.  0.  0.  0.  0.  0.  0.  0.\n",
      "   0.  1.  0.  0.  0.  0.  0.  0.  0.  0.  0.  0.  0.  0.  0.  0.  0.  0.\n",
      "   0.  0.  0.  0.  0.  0.  0.  0.  0.  0.  0.  0.  0.  0.  0.  0.  0.  0.\n",
      "   0.  0.  0.  0.  0.  0.  0.  1.  0.  0.  0.  0.  0.  0.]]\n"
     ]
    }
   ],
   "source": [
    "print lables[:2]\n",
    "print y_train[:2]"
   ]
  },
  {
   "cell_type": "markdown",
   "metadata": {},
   "source": [
    "# 端到端识别模型定义"
   ]
  },
  {
   "cell_type": "code",
   "execution_count": 29,
   "metadata": {
    "collapsed": false
   },
   "outputs": [],
   "source": [
    "model = Sequential()\n",
    "\n",
    "model.add(Conv2D(32, kernel_size=(5, 9),activation='relu', input_shape=input_shape))\n",
    "model.add(MaxPooling2D(pool_size=(2, 4)))\n",
    "\n",
    "model.add(Conv2D(16, kernel_size=(5, 7), activation='relu'))\n",
    "model.add(MaxPooling2D(pool_size=(2, 3)))\n",
    "\n",
    "model.add(Flatten())\n",
    "\n",
    "model.add(Dense(num_classes*4, activation='sigmoid'))\n",
    "\n",
    "model.compile(loss=keras.losses.binary_crossentropy,\n",
    "              optimizer=keras.optimizers.Adadelta(),\n",
    "              metrics=['accuracy'])"
   ]
  },
  {
   "cell_type": "code",
   "execution_count": 30,
   "metadata": {
    "collapsed": false
   },
   "outputs": [],
   "source": [
    "#模型图\n",
    "from keras.utils.vis_utils import plot_model\n",
    "plot_model(model, to_file='Model/model.png',show_shapes=True)\n"
   ]
  },
  {
   "cell_type": "markdown",
   "metadata": {},
   "source": [
    "# 模型训练"
   ]
  },
  {
   "cell_type": "code",
   "execution_count": 31,
   "metadata": {
    "collapsed": false
   },
   "outputs": [],
   "source": [
    "# from keras.models import load_model\n",
    "# model = load_model('Model/my_model.h5')"
   ]
  },
  {
   "cell_type": "code",
   "execution_count": 32,
   "metadata": {
    "collapsed": false
   },
   "outputs": [
    {
     "name": "stdout",
     "output_type": "stream",
     "text": [
      "Train on 4000 samples, validate on 2000 samples\n",
      "Epoch 1/20\n",
      "4000/4000 [==============================] - 12s - loss: 0.0018 - acc: 0.9997 - val_loss: 0.0034 - val_acc: 0.9989\n",
      "Epoch 2/20\n",
      "4000/4000 [==============================] - 14s - loss: 0.0017 - acc: 0.9997 - val_loss: 0.0031 - val_acc: 0.9991\n",
      "Epoch 3/20\n",
      "4000/4000 [==============================] - 12s - loss: 0.0016 - acc: 0.9997 - val_loss: 0.0029 - val_acc: 0.9991\n",
      "Epoch 4/20\n",
      "4000/4000 [==============================] - 11s - loss: 0.0015 - acc: 0.9998 - val_loss: 0.0030 - val_acc: 0.9990\n",
      "Epoch 5/20\n",
      "4000/4000 [==============================] - 13s - loss: 0.0013 - acc: 0.9998 - val_loss: 0.0027 - val_acc: 0.9993\n",
      "Epoch 6/20\n",
      "4000/4000 [==============================] - 15s - loss: 0.0012 - acc: 0.9998 - val_loss: 0.0025 - val_acc: 0.9992\n",
      "Epoch 7/20\n",
      "4000/4000 [==============================] - 14s - loss: 0.0012 - acc: 0.9998 - val_loss: 0.0024 - val_acc: 0.9993\n",
      "Epoch 8/20\n",
      "4000/4000 [==============================] - 13s - loss: 0.0011 - acc: 0.9999 - val_loss: 0.0023 - val_acc: 0.9993\n",
      "Epoch 9/20\n",
      "4000/4000 [==============================] - 13s - loss: 0.0010 - acc: 0.9999 - val_loss: 0.0021 - val_acc: 0.9994\n",
      "Epoch 10/20\n",
      "4000/4000 [==============================] - 13s - loss: 9.3236e-04 - acc: 0.9999 - val_loss: 0.0022 - val_acc: 0.9993\n",
      "Epoch 11/20\n",
      "4000/4000 [==============================] - 14s - loss: 8.7769e-04 - acc: 0.9999 - val_loss: 0.0019 - val_acc: 0.9995\n",
      "Epoch 12/20\n",
      "4000/4000 [==============================] - 14s - loss: 8.1452e-04 - acc: 0.9999 - val_loss: 0.0019 - val_acc: 0.9995\n",
      "Epoch 13/20\n",
      "4000/4000 [==============================] - 14s - loss: 7.6542e-04 - acc: 0.9999 - val_loss: 0.0018 - val_acc: 0.9994\n",
      "Epoch 14/20\n",
      "4000/4000 [==============================] - 14s - loss: 7.1202e-04 - acc: 0.9999 - val_loss: 0.0017 - val_acc: 0.9995\n",
      "Epoch 15/20\n",
      "4000/4000 [==============================] - 15s - loss: 6.6207e-04 - acc: 1.0000 - val_loss: 0.0016 - val_acc: 0.9996\n",
      "Epoch 16/20\n",
      "4000/4000 [==============================] - 15s - loss: 6.2383e-04 - acc: 1.0000 - val_loss: 0.0016 - val_acc: 0.9996\n",
      "Epoch 17/20\n",
      "4000/4000 [==============================] - 15s - loss: 5.8898e-04 - acc: 1.0000 - val_loss: 0.0016 - val_acc: 0.9995\n",
      "Epoch 18/20\n",
      "4000/4000 [==============================] - 15s - loss: 5.5234e-04 - acc: 1.0000 - val_loss: 0.0014 - val_acc: 0.9996\n",
      "Epoch 19/20\n",
      "4000/4000 [==============================] - 16s - loss: 5.1796e-04 - acc: 1.0000 - val_loss: 0.0013 - val_acc: 0.9997\n",
      "Epoch 20/20\n",
      "4000/4000 [==============================] - 16s - loss: 4.8692e-04 - acc: 1.0000 - val_loss: 0.0014 - val_acc: 0.9996\n"
     ]
    },
    {
     "data": {
      "text/plain": [
       "<keras.callbacks.History at 0x1a5721470>"
      ]
     },
     "execution_count": 32,
     "metadata": {},
     "output_type": "execute_result"
    }
   ],
   "source": [
    "model.fit(x_train, y_train,\n",
    "          batch_size=batch_size,\n",
    "          epochs=epochs,\n",
    "          verbose=1,\n",
    "          validation_data=(x_test, y_test))\n"
   ]
  },
  {
   "cell_type": "code",
   "execution_count": 33,
   "metadata": {
    "collapsed": true
   },
   "outputs": [],
   "source": [
    "model.save('Model/my_model.h5')"
   ]
  },
  {
   "cell_type": "markdown",
   "metadata": {},
   "source": [
    "# 模型评估"
   ]
  },
  {
   "cell_type": "code",
   "execution_count": 34,
   "metadata": {
    "collapsed": false
   },
   "outputs": [
    {
     "name": "stdout",
     "output_type": "stream",
     "text": [
      "('Test loss:', 0.0013670353894121945)\n",
      "('Test accuracy:', 0.99962500953674316)\n"
     ]
    }
   ],
   "source": [
    "score = model.evaluate(x_test, y_test, verbose=0)\n",
    "print('Test loss:', score[0])\n",
    "print('Test accuracy:', score[1])"
   ]
  },
  {
   "cell_type": "code",
   "execution_count": 35,
   "metadata": {
    "collapsed": false
   },
   "outputs": [],
   "source": [
    "pred = model.predict(x_test,batch_size = 25)"
   ]
  },
  {
   "cell_type": "code",
   "execution_count": 36,
   "metadata": {
    "collapsed": false
   },
   "outputs": [
    {
     "name": "stdout",
     "output_type": "stream",
     "text": [
      "Test Whole Accurate :  0.994\n"
     ]
    }
   ],
   "source": [
    "outdict = ['A','B','C','D','E','F','G','H','I','J','K','L','M','N','O','P','Q','R','S','T','U','V','W','X','Y','Z']\n",
    "\n",
    "correct_num = 0\n",
    "\n",
    "for i in range(pred.shape[0]):\n",
    "    c0 = outdict[np.argmax(pred[i][:26])]\n",
    "    c1 = outdict[np.argmax(pred[i][26:26*2])]\n",
    "    c2 = outdict[np.argmax(pred[i][26*2:26*3])]\n",
    "    c3 = outdict[np.argmax(pred[i][26*3:])]\n",
    "    c = c0+c1+c2+c3\n",
    "    #print c,lables[4000+i][1]\n",
    "    if c == lables[4000+i][1]:\n",
    "        correct_num = correct_num + 1\n",
    "\n",
    "#统计整体正确率\n",
    "print \"Test Whole Accurate : \", float(correct_num)/len(pred)\n"
   ]
  },
  {
   "cell_type": "code",
   "execution_count": null,
   "metadata": {
    "collapsed": true
   },
   "outputs": [],
   "source": []
  }
 ],
 "metadata": {
  "anaconda-cloud": {},
  "kernelspec": {
   "display_name": "Python [default]",
   "language": "python",
   "name": "python2"
  },
  "language_info": {
   "codemirror_mode": {
    "name": "ipython",
    "version": 2
   },
   "file_extension": ".py",
   "mimetype": "text/x-python",
   "name": "python",
   "nbconvert_exporter": "python",
   "pygments_lexer": "ipython2",
   "version": "2.7.12"
  }
 },
 "nbformat": 4,
 "nbformat_minor": 1
}
